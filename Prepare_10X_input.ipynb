{
 "cells": [
  {
   "cell_type": "code",
   "execution_count": 2,
   "metadata": {},
   "outputs": [],
   "source": [
    "library(Seurat)\n",
    "library(dplyr)\n",
    "library(Matrix)\n",
    "library(gdata)\n",
    "library(DropletUtils)"
   ]
  },
  {
   "cell_type": "markdown",
   "metadata": {},
   "source": [
    "Prepare the 10X inputs "
   ]
  },
  {
   "cell_type": "code",
   "execution_count": 3,
   "metadata": {},
   "outputs": [],
   "source": [
    "mtx=Read10X_h5(\"/mnt/sc_train_course/GSE145926_RAW/GSM4475048_C51_filtered_feature_bc_matrix.h5\", use.names = TRUE, unique.features = TRUE)\n",
    "DropletUtils::write10xCounts(\"/mnt/sc_train_course/GSE145926_RAW/hc1\",mtx)\n",
    "\n",
    "mtx=Read10X_h5(\"/mnt/sc_train_course/GSE145926_RAW/GSM4475049_C52_filtered_feature_bc_matrix.h5\", use.names = TRUE, unique.features = TRUE)\n",
    "DropletUtils::write10xCounts(\"/mnt/sc_train_course/GSE145926_RAW/hc2\",mtx)\n",
    "\n",
    "mtx=Read10X_h5(\"/mnt/sc_train_course/GSE145926_RAW/GSM4339773_C145_filtered_feature_bc_matrix.h5\", use.names = TRUE, unique.features = TRUE)\n",
    "DropletUtils::write10xCounts(\"/mnt/sc_train_course/GSE145926_RAW/S1\",mtx)\n",
    "\n",
    "mtx=Read10X_h5(\"/mnt/sc_train_course/GSE145926_RAW/GSM4339771_C143_filtered_feature_bc_matrix.h5\", use.names = TRUE, unique.features = TRUE)\n",
    "DropletUtils::write10xCounts(\"/mnt/sc_train_course/GSE145926_RAW/S2\",mtx)"
   ]
  }
 ],
 "metadata": {
  "kernelspec": {
   "display_name": "R",
   "language": "R",
   "name": "ir"
  },
  "language_info": {
   "codemirror_mode": "r",
   "file_extension": ".r",
   "mimetype": "text/x-r-source",
   "name": "R",
   "pygments_lexer": "r",
   "version": "3.6.3"
  }
 },
 "nbformat": 4,
 "nbformat_minor": 4
}
